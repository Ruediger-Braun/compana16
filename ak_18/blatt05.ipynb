{
 "cells": [
  {
   "cell_type": "markdown",
   "metadata": {},
   "source": [
    "## Blatt 05 - Gröbner-Basen"
   ]
  },
  {
   "cell_type": "markdown",
   "metadata": {},
   "source": [
    "##### Joseph Adams"
   ]
  },
  {
   "cell_type": "code",
   "execution_count": 1,
   "metadata": {
    "collapsed": true
   },
   "outputs": [],
   "source": [
    "from sympy import *\n",
    "init_printing()\n",
    "from sympy.polys import groebnertools as gt\n",
    "\n",
    "import itertools as it"
   ]
  },
  {
   "cell_type": "code",
   "execution_count": 2,
   "metadata": {
    "collapsed": true
   },
   "outputs": [],
   "source": [
    "def S_poly(p, q):\n",
    "    kgv = p.leading_monom().lcm(q.leading_monom())\n",
    "    t1 = kgv / p.leading_term() * p\n",
    "    t2 = kgv / q.leading_term() * q\n",
    "    return t1 - t2\n",
    "\n",
    "def log(verbose, msg):\n",
    "    if verbose: print(msg)\n",
    "\n",
    "def calc_groebner(G, verbose = False):\n",
    "    G = G[:]\n",
    "    while True:\n",
    "        n = len(G)\n",
    "        for f, g in it.combinations(G, 2):\n",
    "            S = S_poly(f, g).div(G)[1]\n",
    "            log(verbose, \"Berechne S(\" + str(f) + \", \" + str(g) +\") = \" + str(S_poly(f, g)))\n",
    "            log(verbose, \"Rest davon bei Division durch G = \" + str(S))\n",
    "            if S != 0:\n",
    "                G.append(S)\n",
    "                log(verbose, \"Erhalte neues G = \" + str(G) + \"\\n\")\n",
    "                break\n",
    "        if n == len(G): break\n",
    "    log(verbose, \"\\nWir haben also eine GB gefunden: \" + str(G))\n",
    "    return G\n",
    "\n",
    "def reduce_groebner(G):\n",
    "    G = G[:]\n",
    "    # Leitkoeffizienten normieren\n",
    "    G = list(map(lambda p: p / p.LC, G))\n",
    "    \n",
    "    def is_div_LT(gg):\n",
    "        p, Gt = gg\n",
    "        LT = lambda p: p.leading_monom()\n",
    "        return not any(LT(p).div(LT(f))[1] == 0 for f in Gt)\n",
    "    \n",
    "    def div_rem(gg):\n",
    "        p, Gt = gg\n",
    "        return p.div(Gt)[1]\n",
    "    \n",
    "    # Polynome deren Leitterme durch Leitterme anderer\n",
    "    # Polynome teilbar sind herausfiltern.\n",
    "    gg = filter(is_div_LT, zip(G, [G[:i-1] + G[i:] for i in range(1, len(G)+1)]))\n",
    "    \n",
    "    # Jedes Polynom mit seinem Rest beim Dividieren durch den\n",
    "    # Rest der GB ersetzen. siehe Bew. von Thm 4.22\n",
    "    return list(map(div_rem, gg))"
   ]
  },
  {
   "cell_type": "markdown",
   "metadata": {},
   "source": [
    "### Aufgabe 14"
   ]
  },
  {
   "cell_type": "code",
   "execution_count": 3,
   "metadata": {
    "collapsed": true
   },
   "outputs": [],
   "source": [
    "P, (x, y, z) = xring('x,y,z', QQ, lex)\n",
    "G = [x**2 - y, x**3 - z]"
   ]
  },
  {
   "cell_type": "code",
   "execution_count": 4,
   "metadata": {},
   "outputs": [
    {
     "name": "stdout",
     "output_type": "stream",
     "text": [
      "Berechne S(x**2 - y, x**3 - z) = -x*y + z\n",
      "Rest davon bei Division durch G = -x*y + z\n",
      "Erhalte neues G = [x**2 - y, x**3 - z, -x*y + z]\n",
      "\n",
      "Berechne S(x**2 - y, x**3 - z) = -x*y + z\n",
      "Rest davon bei Division durch G = 0\n",
      "Berechne S(x**2 - y, -x*y + z) = x*z - y**2\n",
      "Rest davon bei Division durch G = x*z - y**2\n",
      "Erhalte neues G = [x**2 - y, x**3 - z, -x*y + z, x*z - y**2]\n",
      "\n",
      "Berechne S(x**2 - y, x**3 - z) = -x*y + z\n",
      "Rest davon bei Division durch G = 0\n",
      "Berechne S(x**2 - y, -x*y + z) = x*z - y**2\n",
      "Rest davon bei Division durch G = 0\n",
      "Berechne S(x**2 - y, x*z - y**2) = x*y**2 - y*z\n",
      "Rest davon bei Division durch G = 0\n",
      "Berechne S(x**3 - z, -x*y + z) = x**2*z - y*z\n",
      "Rest davon bei Division durch G = 0\n",
      "Berechne S(x**3 - z, x*z - y**2) = x**2*y**2 - z**2\n",
      "Rest davon bei Division durch G = y**3 - z**2\n",
      "Erhalte neues G = [x**2 - y, x**3 - z, -x*y + z, x*z - y**2, y**3 - z**2]\n",
      "\n",
      "Berechne S(x**2 - y, x**3 - z) = -x*y + z\n",
      "Rest davon bei Division durch G = 0\n",
      "Berechne S(x**2 - y, -x*y + z) = x*z - y**2\n",
      "Rest davon bei Division durch G = 0\n",
      "Berechne S(x**2 - y, x*z - y**2) = x*y**2 - y*z\n",
      "Rest davon bei Division durch G = 0\n",
      "Berechne S(x**2 - y, y**3 - z**2) = x**2*z**2 - y**4\n",
      "Rest davon bei Division durch G = 0\n",
      "Berechne S(x**3 - z, -x*y + z) = x**2*z - y*z\n",
      "Rest davon bei Division durch G = 0\n",
      "Berechne S(x**3 - z, x*z - y**2) = x**2*y**2 - z**2\n",
      "Rest davon bei Division durch G = 0\n",
      "Berechne S(x**3 - z, y**3 - z**2) = x**3*z**2 - y**3*z\n",
      "Rest davon bei Division durch G = 0\n",
      "Berechne S(-x*y + z, x*z - y**2) = y**3 - z**2\n",
      "Rest davon bei Division durch G = 0\n",
      "Berechne S(-x*y + z, y**3 - z**2) = x*z**2 - y**2*z\n",
      "Rest davon bei Division durch G = 0\n",
      "Berechne S(x*z - y**2, y**3 - z**2) = x*z**3 - y**5\n",
      "Rest davon bei Division durch G = 0\n",
      "\n",
      "Wir haben also eine GB gefunden: [x**2 - y, x**3 - z, -x*y + z, x*z - y**2, y**3 - z**2]\n"
     ]
    }
   ],
   "source": [
    "G = calc_groebner(G, verbose = True);"
   ]
  },
  {
   "cell_type": "code",
   "execution_count": 5,
   "metadata": {},
   "outputs": [
    {
     "data": {
      "text/plain": [
       "[x**2 - y, x*y - z, x*z - y**2, y**3 - z**2]"
      ]
     },
     "execution_count": 5,
     "metadata": {},
     "output_type": "execute_result"
    }
   ],
   "source": [
    "G = reduce_groebner(G); G"
   ]
  },
  {
   "cell_type": "code",
   "execution_count": 6,
   "metadata": {},
   "outputs": [
    {
     "data": {
      "text/plain": [
       "[x**2 - y, x*y - z, x*z - y**2, y**3 - z**2]"
      ]
     },
     "execution_count": 6,
     "metadata": {},
     "output_type": "execute_result"
    }
   ],
   "source": [
    "# Sanity check.\n",
    "gt.groebner(G, P)"
   ]
  },
  {
   "cell_type": "markdown",
   "metadata": {},
   "source": [
    "### Aufgabe 15"
   ]
  },
  {
   "cell_type": "code",
   "execution_count": 7,
   "metadata": {},
   "outputs": [
    {
     "name": "stdout",
     "output_type": "stream",
     "text": [
      "Berechne S(-x**3 + y, x**2*y - z) = -y**2 + x*z\n",
      "Rest davon bei Division durch G = -y**2 + x*z\n",
      "Erhalte neues G = [-x**3 + y, x**2*y - z, -y**2 + x*z]\n",
      "\n",
      "Berechne S(-x**3 + y, x**2*y - z) = -y**2 + x*z\n",
      "Rest davon bei Division durch G = 0\n",
      "Berechne S(-x**3 + y, -y**2 + x*z) = x**4*z - y**3\n",
      "Rest davon bei Division durch G = 0\n",
      "Berechne S(x**2*y - z, -y**2 + x*z) = x**3*z - y*z\n",
      "Rest davon bei Division durch G = 0\n",
      "\n",
      "Wir haben also eine GB gefunden: [-x**3 + y, x**2*y - z, -y**2 + x*z]\n"
     ]
    }
   ],
   "source": [
    "P, (x, y, z) = xring('x,y,z', QQ, grevlex)\n",
    "G = [y - x**3, x**2*y - z]\n",
    "f = x*y**3 - z**2 + y**5 - z**3\n",
    "\n",
    "G = calc_groebner(G, verbose = True);"
   ]
  },
  {
   "cell_type": "code",
   "execution_count": 8,
   "metadata": {},
   "outputs": [
    {
     "data": {
      "text/plain": [
       "([0, z**2 + z, -y**3 - x*y*z - x*y], 0)"
      ]
     },
     "execution_count": 8,
     "metadata": {},
     "output_type": "execute_result"
    }
   ],
   "source": [
    "# Dass der Rest beim Dividieren durch die GB 0 wird sagt uns,\n",
    "# dass das Polynom f tatsächlich in dem Ideal liegt.\n",
    "f.div(G)"
   ]
  },
  {
   "cell_type": "code",
   "execution_count": 9,
   "metadata": {},
   "outputs": [
    {
     "name": "stdout",
     "output_type": "stream",
     "text": [
      "[x**3 - y, x**2*y - z, y**2 - x*z]\n"
     ]
    },
    {
     "data": {
      "text/plain": [
       "[x**3 - y, x**2*y - z, y**2 - x*z]"
      ]
     },
     "execution_count": 9,
     "metadata": {},
     "output_type": "execute_result"
    }
   ],
   "source": [
    "# Sanity check.\n",
    "print(reduce_groebner(G))\n",
    "gt.groebner(G, P)"
   ]
  },
  {
   "cell_type": "markdown",
   "metadata": {},
   "source": [
    "#### Zum Vergleich nochmal die Gröbner-Basis mir lexikographischer Ordnung berechnet"
   ]
  },
  {
   "cell_type": "code",
   "execution_count": 10,
   "metadata": {},
   "outputs": [
    {
     "name": "stdout",
     "output_type": "stream",
     "text": [
      "Berechne S(-x**3 + y, x**2*y - z) = x*z - y**2\n",
      "Rest davon bei Division durch G = x*z - y**2\n",
      "Erhalte neues G = [-x**3 + y, x**2*y - z, x*z - y**2]\n",
      "\n",
      "Berechne S(-x**3 + y, x**2*y - z) = x*z - y**2\n",
      "Rest davon bei Division durch G = 0\n",
      "Berechne S(-x**3 + y, x*z - y**2) = x**2*y**2 - y*z\n",
      "Rest davon bei Division durch G = 0\n",
      "Berechne S(x**2*y - z, x*z - y**2) = x*y**3 - z**2\n",
      "Rest davon bei Division durch G = x*y**3 - z**2\n",
      "Erhalte neues G = [-x**3 + y, x**2*y - z, x*z - y**2, x*y**3 - z**2]\n",
      "\n",
      "Berechne S(-x**3 + y, x**2*y - z) = x*z - y**2\n",
      "Rest davon bei Division durch G = 0\n",
      "Berechne S(-x**3 + y, x*z - y**2) = x**2*y**2 - y*z\n",
      "Rest davon bei Division durch G = 0\n",
      "Berechne S(-x**3 + y, x*y**3 - z**2) = x**2*z**2 - y**4\n",
      "Rest davon bei Division durch G = 0\n",
      "Berechne S(x**2*y - z, x*z - y**2) = x*y**3 - z**2\n",
      "Rest davon bei Division durch G = 0\n",
      "Berechne S(x**2*y - z, x*y**3 - z**2) = x*z**2 - y**2*z\n",
      "Rest davon bei Division durch G = 0\n",
      "Berechne S(x*z - y**2, x*y**3 - z**2) = -y**5 + z**3\n",
      "Rest davon bei Division durch G = -y**5 + z**3\n",
      "Erhalte neues G = [-x**3 + y, x**2*y - z, x*z - y**2, x*y**3 - z**2, -y**5 + z**3]\n",
      "\n",
      "Berechne S(-x**3 + y, x**2*y - z) = x*z - y**2\n",
      "Rest davon bei Division durch G = 0\n",
      "Berechne S(-x**3 + y, x*z - y**2) = x**2*y**2 - y*z\n",
      "Rest davon bei Division durch G = 0\n",
      "Berechne S(-x**3 + y, x*y**3 - z**2) = x**2*z**2 - y**4\n",
      "Rest davon bei Division durch G = 0\n",
      "Berechne S(-x**3 + y, -y**5 + z**3) = x**3*z**3 - y**6\n",
      "Rest davon bei Division durch G = 0\n",
      "Berechne S(x**2*y - z, x*z - y**2) = x*y**3 - z**2\n",
      "Rest davon bei Division durch G = 0\n",
      "Berechne S(x**2*y - z, x*y**3 - z**2) = x*z**2 - y**2*z\n",
      "Rest davon bei Division durch G = 0\n",
      "Berechne S(x**2*y - z, -y**5 + z**3) = x**2*z**3 - y**4*z\n",
      "Rest davon bei Division durch G = 0\n",
      "Berechne S(x*z - y**2, x*y**3 - z**2) = -y**5 + z**3\n",
      "Rest davon bei Division durch G = 0\n",
      "Berechne S(x*z - y**2, -y**5 + z**3) = x*z**4 - y**7\n",
      "Rest davon bei Division durch G = 0\n",
      "Berechne S(x*y**3 - z**2, -y**5 + z**3) = x*z**3 - y**2*z**2\n",
      "Rest davon bei Division durch G = 0\n",
      "\n",
      "Wir haben also eine GB gefunden: [-x**3 + y, x**2*y - z, x*z - y**2, x*y**3 - z**2, -y**5 + z**3]\n"
     ]
    }
   ],
   "source": [
    "P, (x, y, z) = xring('x,y,z', QQ, lex)\n",
    "G = [y - x**3, x**2*y - z]\n",
    "\n",
    "G = calc_groebner(G, verbose = True);"
   ]
  },
  {
   "cell_type": "code",
   "execution_count": 11,
   "metadata": {},
   "outputs": [
    {
     "data": {
      "text/plain": [
       "[x**3 - y, x**2*y - z, x*z - y**2, x*y**3 - z**2, y**5 - z**3]"
      ]
     },
     "execution_count": 11,
     "metadata": {},
     "output_type": "execute_result"
    }
   ],
   "source": [
    "reduce_groebner(G)"
   ]
  }
 ],
 "metadata": {
  "kernelspec": {
   "display_name": "Python 3",
   "language": "python",
   "name": "python3"
  },
  "language_info": {
   "codemirror_mode": {
    "name": "ipython",
    "version": 3
   },
   "file_extension": ".py",
   "mimetype": "text/x-python",
   "name": "python",
   "nbconvert_exporter": "python",
   "pygments_lexer": "ipython3",
   "version": "3.5.2"
  }
 },
 "nbformat": 4,
 "nbformat_minor": 2
}
