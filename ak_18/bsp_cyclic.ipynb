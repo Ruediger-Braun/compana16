{
 "cells": [
  {
   "cell_type": "code",
   "execution_count": null,
   "metadata": {},
   "outputs": [],
   "source": [
    "from sympy import *\n",
    "from sympy.polys import groebnertools as gt\n",
    "init_printing()\n",
    "from sympy.polys.rings import PolyRing"
   ]
  },
  {
   "cell_type": "code",
   "execution_count": null,
   "metadata": {
    "collapsed": true
   },
   "outputs": [],
   "source": [
    "def symbolize(p, erzeuger, name='x'):\n",
    "    symbols = [Symbol('{}_{}'.format(name, j+1)) for j in range(len(erzeuger))]\n",
    "    res = 0\n",
    "    for key, value in p.to_dict().items():\n",
    "        m = value\n",
    "        for symbol, exponent in zip(symbols, key):\n",
    "            m *= symbol ** exponent\n",
    "        res += m\n",
    "    return res        "
   ]
  },
  {
   "cell_type": "code",
   "execution_count": null,
   "metadata": {
    "collapsed": true
   },
   "outputs": [],
   "source": [
    "P, x = xring('x1,x2,x3,x4,x5', QQ, lex)"
   ]
  },
  {
   "cell_type": "code",
   "execution_count": null,
   "metadata": {},
   "outputs": [],
   "source": [
    "F = []\n",
    "y = 2*x \n",
    "for j in range(1,len(x)):\n",
    "    p = 0\n",
    "    for i in range(len(x)):\n",
    "        m = 1\n",
    "        for k in range(i, i+j):\n",
    "            m *= y[k]\n",
    "        p += m\n",
    "    F.append(p)\n",
    "m = 1\n",
    "for t in x:\n",
    "    m *= t\n",
    "F.append(m-1)\n",
    "[symbolize(s, x) for s in F]"
   ]
  },
  {
   "cell_type": "code",
   "execution_count": null,
   "metadata": {
    "collapsed": true
   },
   "outputs": [],
   "source": [
    "G = gt.groebner(F, P)"
   ]
  },
  {
   "cell_type": "code",
   "execution_count": null,
   "metadata": {},
   "outputs": [],
   "source": [
    "[symbolize(g, x) for g in G]"
   ]
  },
  {
   "cell_type": "code",
   "execution_count": null,
   "metadata": {},
   "outputs": [],
   "source": [
    "len(G)"
   ]
  },
  {
   "cell_type": "code",
   "execution_count": null,
   "metadata": {},
   "outputs": [],
   "source": [
    "y = ','.join([repr(xi).replace('x', 'y') for xi in x])"
   ]
  },
  {
   "cell_type": "code",
   "execution_count": null,
   "metadata": {
    "collapsed": true
   },
   "outputs": [],
   "source": [
    "Q13 = PolyRing(y, FiniteField(13), lex)"
   ]
  },
  {
   "cell_type": "code",
   "execution_count": null,
   "metadata": {},
   "outputs": [],
   "source": [
    "F13 = [Q13.from_dict(s.to_dict()) for s in F]"
   ]
  },
  {
   "cell_type": "code",
   "execution_count": null,
   "metadata": {},
   "outputs": [],
   "source": [
    "F13\n"
   ]
  },
  {
   "cell_type": "code",
   "execution_count": null,
   "metadata": {},
   "outputs": [],
   "source": [
    "G13 = gt.groebner(F13, Q13)"
   ]
  },
  {
   "cell_type": "code",
   "execution_count": null,
   "metadata": {},
   "outputs": [],
   "source": [
    "[symbolize(g, y, 'y') for g in G13]"
   ]
  }
 ],
 "metadata": {
  "anaconda-cloud": {},
  "kernelspec": {
   "display_name": "Python 3",
   "language": "python",
   "name": "python3"
  },
  "language_info": {
   "codemirror_mode": {
    "name": "ipython",
    "version": 3
   },
   "file_extension": ".py",
   "mimetype": "text/x-python",
   "name": "python",
   "nbconvert_exporter": "python",
   "pygments_lexer": "ipython3",
   "version": "3.6.4"
  }
 },
 "nbformat": 4,
 "nbformat_minor": 2
}
